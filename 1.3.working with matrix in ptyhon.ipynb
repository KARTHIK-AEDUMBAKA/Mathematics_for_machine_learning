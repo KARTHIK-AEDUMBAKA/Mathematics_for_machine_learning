{
 "cells": [
  {
   "cell_type": "code",
   "execution_count": 1,
   "id": "229ddb50",
   "metadata": {},
   "outputs": [],
   "source": [
    "import numpy as np"
   ]
  },
  {
   "cell_type": "markdown",
   "id": "fd841ea5",
   "metadata": {},
   "source": [
    "# creating a Matrix using numpy\n"
   ]
  },
  {
   "cell_type": "code",
   "execution_count": 3,
   "id": "65d93f3f",
   "metadata": {},
   "outputs": [],
   "source": [
    "matrix_1 = np.array([[2,3],[6,7]])"
   ]
  },
  {
   "cell_type": "code",
   "execution_count": 4,
   "id": "ebcc93da",
   "metadata": {},
   "outputs": [
    {
     "data": {
      "text/plain": [
       "array([[2, 3],\n",
       "       [6, 7]])"
      ]
     },
     "execution_count": 4,
     "metadata": {},
     "output_type": "execute_result"
    }
   ],
   "source": [
    "matrix_1"
   ]
  },
  {
   "cell_type": "code",
   "execution_count": 6,
   "id": "4e813a62",
   "metadata": {},
   "outputs": [
    {
     "data": {
      "text/plain": [
       "(2, 2)"
      ]
     },
     "execution_count": 6,
     "metadata": {},
     "output_type": "execute_result"
    }
   ],
   "source": [
    "matrix_1.shape # to get the shape "
   ]
  },
  {
   "cell_type": "code",
   "execution_count": 7,
   "id": "9f8ef5f0",
   "metadata": {},
   "outputs": [],
   "source": [
    "matrix_2=np.array([[10,20,30],[34,5,43],[65,54,32]])"
   ]
  },
  {
   "cell_type": "code",
   "execution_count": 8,
   "id": "3ad8f67a",
   "metadata": {},
   "outputs": [
    {
     "data": {
      "text/plain": [
       "array([[10, 20, 30],\n",
       "       [34,  5, 43],\n",
       "       [65, 54, 32]])"
      ]
     },
     "execution_count": 8,
     "metadata": {},
     "output_type": "execute_result"
    }
   ],
   "source": [
    "matrix_2"
   ]
  },
  {
   "cell_type": "code",
   "execution_count": 9,
   "id": "002785d7",
   "metadata": {},
   "outputs": [
    {
     "data": {
      "text/plain": [
       "(3, 3)"
      ]
     },
     "execution_count": 9,
     "metadata": {},
     "output_type": "execute_result"
    }
   ],
   "source": [
    "matrix_2.shape"
   ]
  },
  {
   "cell_type": "markdown",
   "id": "e9e4b64c",
   "metadata": {},
   "source": [
    "# create matrices with random value"
   ]
  },
  {
   "cell_type": "code",
   "execution_count": 10,
   "id": "ad66ee76",
   "metadata": {},
   "outputs": [],
   "source": [
    "random_matrix= np.random.rand(3,3)"
   ]
  },
  {
   "cell_type": "code",
   "execution_count": 11,
   "id": "92562828",
   "metadata": {},
   "outputs": [
    {
     "data": {
      "text/plain": [
       "array([[0.27734026, 0.21991755, 0.07993186],\n",
       "       [0.50182734, 0.1883535 , 0.26744165],\n",
       "       [0.27006102, 0.44681289, 0.62585286]])"
      ]
     },
     "execution_count": 11,
     "metadata": {},
     "output_type": "execute_result"
    }
   ],
   "source": [
    "random_matrix"
   ]
  },
  {
   "cell_type": "markdown",
   "id": "883cf00d",
   "metadata": {},
   "source": [
    "# create matrices with random  int value"
   ]
  },
  {
   "cell_type": "code",
   "execution_count": 14,
   "id": "813d9b5e",
   "metadata": {},
   "outputs": [],
   "source": [
    "random_matrix= np.random.randint(100, size=(3,3))"
   ]
  },
  {
   "cell_type": "code",
   "execution_count": 15,
   "id": "a3e220c4",
   "metadata": {},
   "outputs": [
    {
     "data": {
      "text/plain": [
       "array([[97, 60,  0],\n",
       "       [59,  1, 63],\n",
       "       [66, 85,  7]])"
      ]
     },
     "execution_count": 15,
     "metadata": {},
     "output_type": "execute_result"
    }
   ],
   "source": [
    "random_matrix"
   ]
  },
  {
   "cell_type": "markdown",
   "id": "774b1a6c",
   "metadata": {},
   "source": [
    "# create matrices with all values as 1\n"
   ]
  },
  {
   "cell_type": "code",
   "execution_count": 20,
   "id": "b2691e1d",
   "metadata": {},
   "outputs": [],
   "source": [
    "matrix_3 = np.ones((2,3))"
   ]
  },
  {
   "cell_type": "code",
   "execution_count": 21,
   "id": "446c124d",
   "metadata": {},
   "outputs": [
    {
     "data": {
      "text/plain": [
       "array([[1., 1., 1.],\n",
       "       [1., 1., 1.]])"
      ]
     },
     "execution_count": 21,
     "metadata": {},
     "output_type": "execute_result"
    }
   ],
   "source": [
    "matrix_3"
   ]
  },
  {
   "cell_type": "code",
   "execution_count": 24,
   "id": "a45d276a",
   "metadata": {},
   "outputs": [],
   "source": [
    "matrix_3 = np.ones((10,10),dtype=int)"
   ]
  },
  {
   "cell_type": "code",
   "execution_count": 25,
   "id": "f43d1363",
   "metadata": {},
   "outputs": [
    {
     "data": {
      "text/plain": [
       "array([[1, 1, 1, 1, 1, 1, 1, 1, 1, 1],\n",
       "       [1, 1, 1, 1, 1, 1, 1, 1, 1, 1],\n",
       "       [1, 1, 1, 1, 1, 1, 1, 1, 1, 1],\n",
       "       [1, 1, 1, 1, 1, 1, 1, 1, 1, 1],\n",
       "       [1, 1, 1, 1, 1, 1, 1, 1, 1, 1],\n",
       "       [1, 1, 1, 1, 1, 1, 1, 1, 1, 1],\n",
       "       [1, 1, 1, 1, 1, 1, 1, 1, 1, 1],\n",
       "       [1, 1, 1, 1, 1, 1, 1, 1, 1, 1],\n",
       "       [1, 1, 1, 1, 1, 1, 1, 1, 1, 1],\n",
       "       [1, 1, 1, 1, 1, 1, 1, 1, 1, 1]])"
      ]
     },
     "execution_count": 25,
     "metadata": {},
     "output_type": "execute_result"
    }
   ],
   "source": [
    "matrix_3"
   ]
  },
  {
   "cell_type": "markdown",
   "id": "f7f1953d",
   "metadata": {},
   "source": [
    "# create null / zeoes matrices \n"
   ]
  },
  {
   "cell_type": "code",
   "execution_count": 26,
   "id": "f5ced484",
   "metadata": {},
   "outputs": [],
   "source": [
    "null_matrix = np.zeros((4,4))"
   ]
  },
  {
   "cell_type": "code",
   "execution_count": 27,
   "id": "07ec0091",
   "metadata": {},
   "outputs": [
    {
     "data": {
      "text/plain": [
       "array([[0., 0., 0., 0.],\n",
       "       [0., 0., 0., 0.],\n",
       "       [0., 0., 0., 0.],\n",
       "       [0., 0., 0., 0.]])"
      ]
     },
     "execution_count": 27,
     "metadata": {},
     "output_type": "execute_result"
    }
   ],
   "source": [
    "null_matrix"
   ]
  },
  {
   "cell_type": "code",
   "execution_count": 28,
   "id": "898e1fa5",
   "metadata": {},
   "outputs": [],
   "source": [
    "null_matrix = np.zeros((4,4))"
   ]
  },
  {
   "cell_type": "markdown",
   "id": "890558e3",
   "metadata": {},
   "source": [
    "# identity Matrix"
   ]
  },
  {
   "cell_type": "code",
   "execution_count": 29,
   "id": "143a8ced",
   "metadata": {},
   "outputs": [],
   "source": [
    "identity_Matrix=np.eye(3,3)"
   ]
  },
  {
   "cell_type": "code",
   "execution_count": 30,
   "id": "4ce73c05",
   "metadata": {},
   "outputs": [
    {
     "data": {
      "text/plain": [
       "array([[1., 0., 0.],\n",
       "       [0., 1., 0.],\n",
       "       [0., 0., 1.]])"
      ]
     },
     "execution_count": 30,
     "metadata": {},
     "output_type": "execute_result"
    }
   ],
   "source": [
    "identity_Matrix"
   ]
  },
  {
   "cell_type": "markdown",
   "id": "ccbe571a",
   "metadata": {},
   "source": [
    "# Transpose Of A Matrix"
   ]
  },
  {
   "cell_type": "code",
   "execution_count": 31,
   "id": "d08f2fbe",
   "metadata": {},
   "outputs": [],
   "source": [
    "# with random int\n",
    "a= np.random.randint(100,size=(4,6))"
   ]
  },
  {
   "cell_type": "code",
   "execution_count": 33,
   "id": "378acf26",
   "metadata": {},
   "outputs": [
    {
     "data": {
      "text/plain": [
       "array([[37, 79, 71, 60, 27,  1],\n",
       "       [60, 97, 15, 75, 55, 78],\n",
       "       [ 9,  9, 24, 47, 94, 37],\n",
       "       [ 3, 77, 76, 45, 20, 23]])"
      ]
     },
     "execution_count": 33,
     "metadata": {},
     "output_type": "execute_result"
    }
   ],
   "source": [
    "a"
   ]
  },
  {
   "cell_type": "code",
   "execution_count": 34,
   "id": "89cd65f8",
   "metadata": {},
   "outputs": [
    {
     "data": {
      "text/plain": [
       "array([[37, 60,  9,  3],\n",
       "       [79, 97,  9, 77],\n",
       "       [71, 15, 24, 76],\n",
       "       [60, 75, 47, 45],\n",
       "       [27, 55, 94, 20],\n",
       "       [ 1, 78, 37, 23]])"
      ]
     },
     "execution_count": 34,
     "metadata": {},
     "output_type": "execute_result"
    }
   ],
   "source": [
    "a.T"
   ]
  },
  {
   "cell_type": "code",
   "execution_count": 36,
   "id": "04a6a211",
   "metadata": {},
   "outputs": [
    {
     "data": {
      "text/plain": [
       "array([[37, 60,  9,  3],\n",
       "       [79, 97,  9, 77],\n",
       "       [71, 15, 24, 76],\n",
       "       [60, 75, 47, 45],\n",
       "       [27, 55, 94, 20],\n",
       "       [ 1, 78, 37, 23]])"
      ]
     },
     "execution_count": 36,
     "metadata": {},
     "output_type": "execute_result"
    }
   ],
   "source": [
    "a.transpose()"
   ]
  },
  {
   "cell_type": "code",
   "execution_count": null,
   "id": "f2903e4e",
   "metadata": {},
   "outputs": [],
   "source": []
  }
 ],
 "metadata": {
  "kernelspec": {
   "display_name": "Python 3 (ipykernel)",
   "language": "python",
   "name": "python3"
  },
  "language_info": {
   "codemirror_mode": {
    "name": "ipython",
    "version": 3
   },
   "file_extension": ".py",
   "mimetype": "text/x-python",
   "name": "python",
   "nbconvert_exporter": "python",
   "pygments_lexer": "ipython3",
   "version": "3.11.5"
  }
 },
 "nbformat": 4,
 "nbformat_minor": 5
}
