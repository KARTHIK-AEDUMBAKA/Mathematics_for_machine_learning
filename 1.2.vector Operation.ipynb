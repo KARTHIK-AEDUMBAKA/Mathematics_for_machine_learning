{
 "cells": [
  {
   "cell_type": "code",
   "execution_count": null,
   "id": "cdda5ce3",
   "metadata": {},
   "outputs": [],
   "source": [
    "import numpy as np"
   ]
  },
  {
   "cell_type": "markdown",
   "id": "35a31d7c",
   "metadata": {},
   "source": [
    "# Dot prodect of 2 Vector"
   ]
  },
  {
   "cell_type": "code",
   "execution_count": 6,
   "id": "679def90",
   "metadata": {},
   "outputs": [],
   "source": [
    "a= np.array([2,3])\n",
    "\n",
    "b=np.array([4,4])"
   ]
  },
  {
   "cell_type": "code",
   "execution_count": 7,
   "id": "d1a38c5b",
   "metadata": {},
   "outputs": [],
   "source": [
    "a_dot_b = np.dot(a,b)"
   ]
  },
  {
   "cell_type": "code",
   "execution_count": 8,
   "id": "60241398",
   "metadata": {},
   "outputs": [
    {
     "data": {
      "text/plain": [
       "20"
      ]
     },
     "execution_count": 8,
     "metadata": {},
     "output_type": "execute_result"
    }
   ],
   "source": [
    "a_dot_b"
   ]
  },
  {
   "cell_type": "code",
   "execution_count": 10,
   "id": "b52e56a1",
   "metadata": {},
   "outputs": [],
   "source": [
    "c = np.array([40,50,20])\n",
    "\n",
    "d= np.array([85,52,24])"
   ]
  },
  {
   "cell_type": "code",
   "execution_count": 11,
   "id": "7887455e",
   "metadata": {},
   "outputs": [
    {
     "data": {
      "text/plain": [
       "6480"
      ]
     },
     "execution_count": 11,
     "metadata": {},
     "output_type": "execute_result"
    }
   ],
   "source": [
    "c_dot_d = np.dot(c,d)\n",
    "\n",
    "c_dot_d"
   ]
  },
  {
   "cell_type": "markdown",
   "id": "91baae6a",
   "metadata": {},
   "source": [
    "# cross product of 2 vectors"
   ]
  },
  {
   "cell_type": "code",
   "execution_count": 12,
   "id": "6be035ed",
   "metadata": {},
   "outputs": [],
   "source": [
    "a= np.array([2,3])\n",
    "\n",
    "b=np.array([4,4])"
   ]
  },
  {
   "cell_type": "code",
   "execution_count": 14,
   "id": "6b9f16f2",
   "metadata": {},
   "outputs": [],
   "source": [
    "a_cross_b = np.cross(a,b)"
   ]
  },
  {
   "cell_type": "code",
   "execution_count": 15,
   "id": "8fd458d3",
   "metadata": {},
   "outputs": [
    {
     "data": {
      "text/plain": [
       "array(-4)"
      ]
     },
     "execution_count": 15,
     "metadata": {},
     "output_type": "execute_result"
    }
   ],
   "source": [
    "a_cross_b"
   ]
  },
  {
   "cell_type": "code",
   "execution_count": 16,
   "id": "4e2e4a09",
   "metadata": {},
   "outputs": [],
   "source": [
    "c = np.array([40,50,20])\n",
    "\n",
    "d= np.array([85,52,24])"
   ]
  },
  {
   "cell_type": "code",
   "execution_count": 17,
   "id": "8dd60482",
   "metadata": {},
   "outputs": [],
   "source": [
    "c_cross_d = np.cross(c,d)"
   ]
  },
  {
   "cell_type": "code",
   "execution_count": 18,
   "id": "247ab7a3",
   "metadata": {},
   "outputs": [
    {
     "data": {
      "text/plain": [
       "array([  160,   740, -2170])"
      ]
     },
     "execution_count": 18,
     "metadata": {},
     "output_type": "execute_result"
    }
   ],
   "source": [
    "c_cross_d"
   ]
  },
  {
   "cell_type": "markdown",
   "id": "7fbd4856",
   "metadata": {},
   "source": [
    "# Projection of \"a\" vector on \"v\" vector"
   ]
  },
  {
   "cell_type": "code",
   "execution_count": 19,
   "id": "6d13ce1f",
   "metadata": {},
   "outputs": [],
   "source": [
    "a= np.array([2,5])\n",
    "\n",
    "v=np.array([8,-6])"
   ]
  },
  {
   "cell_type": "code",
   "execution_count": 24,
   "id": "93efb81e",
   "metadata": {},
   "outputs": [],
   "source": [
    "# magnitude of \"v\" vectors\n",
    "\n",
    "magnitude_of_v = np.sqrt(sum(v**2))"
   ]
  },
  {
   "cell_type": "code",
   "execution_count": 25,
   "id": "d67fafd1",
   "metadata": {},
   "outputs": [
    {
     "data": {
      "text/plain": [
       "10.0"
      ]
     },
     "execution_count": 25,
     "metadata": {},
     "output_type": "execute_result"
    }
   ],
   "source": [
    "magnitude_of_v"
   ]
  },
  {
   "cell_type": "code",
   "execution_count": 29,
   "id": "7ca47871",
   "metadata": {},
   "outputs": [],
   "source": [
    "Proj_of_a_on_v = (np.dot(a,v)/(magnitude_of_v**2))*v"
   ]
  },
  {
   "cell_type": "code",
   "execution_count": 30,
   "id": "e4ff840a",
   "metadata": {},
   "outputs": [
    {
     "data": {
      "text/plain": [
       "array([-1.12,  0.84])"
      ]
     },
     "execution_count": 30,
     "metadata": {},
     "output_type": "execute_result"
    }
   ],
   "source": [
    "Proj_of_a_on_v"
   ]
  },
  {
   "cell_type": "code",
   "execution_count": null,
   "id": "2a57686d",
   "metadata": {},
   "outputs": [],
   "source": []
  }
 ],
 "metadata": {
  "kernelspec": {
   "display_name": "Python 3 (ipykernel)",
   "language": "python",
   "name": "python3"
  },
  "language_info": {
   "codemirror_mode": {
    "name": "ipython",
    "version": 3
   },
   "file_extension": ".py",
   "mimetype": "text/x-python",
   "name": "python",
   "nbconvert_exporter": "python",
   "pygments_lexer": "ipython3",
   "version": "3.11.5"
  }
 },
 "nbformat": 4,
 "nbformat_minor": 5
}
